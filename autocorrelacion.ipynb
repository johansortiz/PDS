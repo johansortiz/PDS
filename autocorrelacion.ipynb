{
 "cells": [
  {
   "cell_type": "code",
   "execution_count": 1,
   "id": "aeef15af",
   "metadata": {},
   "outputs": [
    {
     "data": {
      "image/png": "[encoded data removed]",
      "text/plain": [
       "<Figure size 432x288 with 2 Axes>"
      ]
     },
     "metadata": {
      "needs_background": "light"
     },
     "output_type": "display_data"
    }
   ],
   "source": [
    "import numpy as np\n",
    "import matplotlib.pyplot as plt\n",
    "\n",
    "# Definir la señal de entrada\n",
    "x = np.array([1, 2, 3, 4, 3, 2, 1])\n",
    "\n",
    "# Calcular la autocorrelación y la autocorrelación normalizada\n",
    "rxx = np.correlate(x, x, mode='full')\n",
    "norm_rxx = rxx / np.max(rxx)\n",
    "\n",
    "# Graficar las señales\n",
    "fig, (ax1, ax2) = plt.subplots(2, 1, sharex=True)\n",
    "\n",
    "ax1.stem(x, linefmt='C0-', markerfmt='C0o', basefmt='k-')\n",
    "ax1.set_ylabel('x')\n",
    "\n",
    "ax2.stem(norm_rxx, linefmt='C1-', markerfmt='C1o', basefmt='k-')\n",
    "ax2.set_xlabel('n')\n",
    "ax2.set_ylabel('rxx')\n",
    "\n",
    "plt.show()\n"
   ]
  },
  {
   "cell_type": "code",
   "execution_count": null,
   "id": "38f56771",
   "metadata": {},
   "outputs": [],
   "source": []
  }
 ],
 "metadata": {
  "kernelspec": {
   "display_name": "Python 3 (ipykernel)",
   "language": "python",
   "name": "python3"
  },
  "language_info": {
   "codemirror_mode": {
    "name": "ipython",
    "version": 3
   },
   "file_extension": ".py",
   "mimetype": "text/x-python",
   "name": "python",
   "nbconvert_exporter": "python",
   "pygments_lexer": "ipython3",
   "version": "3.9.7"
  }
 },
 "nbformat": 4,
 "nbformat_minor": 5
}
